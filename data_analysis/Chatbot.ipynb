{
 "cells": [
  {
   "cell_type": "code",
   "execution_count": 49,
   "id": "f4b198ed",
   "metadata": {},
   "outputs": [],
   "source": [
    "import time\n",
    "import random"
   ]
  },
  {
   "cell_type": "code",
   "execution_count": 50,
   "id": "d8684dcb",
   "metadata": {},
   "outputs": [],
   "source": [
    "def chatbot():\n",
    "    # Dictionary mapping user inputs to bot responses\n",
    "    # Keys are in lowercase for normalization\n",
    "    responses = {\n",
    "        \"india\": \"What is your preferred area of Calgary?\",\n",
    "        \"ne\": \"How many dependants do you have with you?\",\n",
    "        \"2\": \"What type of accommodation do you wish to have?\",\n",
    "        \"house\": \"Thanks for your answers, we are using our AI model to match you to suitable hosts! \\nWe have found a suitable match: Manpreet Singh\"\n",
    "    }\n",
    "    \n",
    "    # Default response if the user's input is not recognized\n",
    "    default_response = \"I'm not sure how to respond to that. Can you try asking something else?\"\n",
    "\n",
    "    print(\"Welcome to the Calgary Immigrant and Host Matching Service powered by AI. Please enter your country of origin.\")\n",
    "\n",
    "    while True:\n",
    "        # Get user input\n",
    "        user_input = input(\"You: \").lower().strip()  # Normalize user input to lowercase\n",
    "        \n",
    "        # Check if the user wants to quit\n",
    "        if user_input == \"quit\":\n",
    "            print(\"MatchGPT: Goodbye!\")\n",
    "            break\n",
    "        \n",
    "        # Simulate \"thinking\" with a random delay\n",
    "        print(\"MatchGPT is thinking...\", end=\"\\r\", flush=True)\n",
    "        time.sleep(random.uniform(0.5, 2.0))  # Random delay between 0.5 to 2 seconds\n",
    "        \n",
    "        # Get the response from the bot based on user input, or use the default response\n",
    "        bot_response = responses.get(user_input, default_response)\n",
    "        \n",
    "        # Print the bot's response\n",
    "        print(\" \" * 30, end=\"\\r\")  # Clear the 'thinking' message\n",
    "        print(f\"MatchGPT: {bot_response}\")"
   ]
  },
  {
   "cell_type": "code",
   "execution_count": null,
   "id": "f8b30bec",
   "metadata": {},
   "outputs": [
    {
     "name": "stdout",
     "output_type": "stream",
     "text": [
      "Welcome to the Calgary Immigrant and Host Matching Service powered by AI. Please enter your country of origin.\n",
      "You: ne\n",
      "MatchGPT: How many dependants do you have with you?\n",
      "You: 2\n",
      "MatchGPT: What type of accommodation do you wish to have?\n",
      "You: ne\n",
      "MatchGPT: How many dependants do you have with you?\n",
      "You: house\n",
      "MatchGPT: Thanks for your answers, we are using our AI model to match you to suitable hosts! \n",
      "We have found a suitable match: Manpreet Singh\n"
     ]
    }
   ],
   "source": [
    "chatbot()"
   ]
  },
  {
   "cell_type": "code",
   "execution_count": null,
   "id": "6d43e5d4",
   "metadata": {},
   "outputs": [],
   "source": []
  }
 ],
 "metadata": {
  "kernelspec": {
   "display_name": "Python 3 (ipykernel)",
   "language": "python",
   "name": "python3"
  },
  "language_info": {
   "codemirror_mode": {
    "name": "ipython",
    "version": 3
   },
   "file_extension": ".py",
   "mimetype": "text/x-python",
   "name": "python",
   "nbconvert_exporter": "python",
   "pygments_lexer": "ipython3",
   "version": "3.9.13"
  }
 },
 "nbformat": 4,
 "nbformat_minor": 5
}
